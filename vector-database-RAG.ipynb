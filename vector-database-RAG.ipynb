{
 "cells": [
  {
   "cell_type": "markdown",
   "id": "370fcd69-bd9a-45c8-adfb-dcbd328f6bf3",
   "metadata": {},
   "source": [
    "# Document Q&A with RAG\n",
    "\n",
    "Two Big limitations of LLMs:\n",
    "\n",
    "1. that they only \"know\" the information that they were trained on, and\n",
    "2. that they have limited input context windows.\n",
    "\n",
    "A way to address both of these limitations is to use a technique called Retrival Augmented Generation, or RAG. RAG system has three stages:\n",
    "\n",
    "1. Indexing\n",
    "2. Retrival\n",
    "3. Generaion\n",
    "\n",
    "**Indexing** happens ahead of time, and allows you to quickly look up relevant information at query-time. When a query comes in, you **retrieve** relevant documents, combine them with your instructions and the user's query, and have the LLM **generate** a tailored answer in natural language using the supplied information.\n",
    "\n",
    "This allows you to provide information that the model hasn't seen before, such as product-specific knowledge or live weather updates.\n",
    "\n",
    "<div class=\"alert alert-block alert-info\">\n",
    "<b>Info:</b> use the Gemini API to create a vector database, retrieve answers to questions from the database and generate a final answer. You will use Chroma, an open-source vector database. With Chroma, you can store embeddings alongside metadata, embed documents and queries, and search your documents.\n",
    "</div>\n",
    "\n"
   ]
  },
  {
   "cell_type": "code",
   "execution_count": 20,
   "id": "5bbd84ab-ce74-4479-9b37-44f6bc312334",
   "metadata": {},
   "outputs": [],
   "source": [
    "\n",
    "import google.generativeai as genai\n",
    "from IPython.display import Markdown\n",
    "import os\n",
    "\n",
    "genai.configure(api_key=os.environ[\"GOOGLE_API_KEY\"])\n",
    "\n"
   ]
  },
  {
   "cell_type": "markdown",
   "id": "9f04e152-c0d3-4215-9d17-b6260ee262c2",
   "metadata": {},
   "source": [
    "**EmbedContent API method to calculate embeddings**"
   ]
  },
  {
   "cell_type": "code",
   "execution_count": 2,
   "id": "e132759e-81e5-4575-a162-901c9b9bec19",
   "metadata": {},
   "outputs": [
    {
     "name": "stdout",
     "output_type": "stream",
     "text": [
      "models/embedding-001\n",
      "models/text-embedding-004\n"
     ]
    }
   ],
   "source": [
    "for m in genai.list_models():\n",
    "    if \"embedContent\" in m.supported_generation_methods:\n",
    "        print(m.name)\n"
   ]
  },
  {
   "cell_type": "markdown",
   "id": "a1b340a5-f453-42b1-a3d0-2b824209ac3d",
   "metadata": {},
   "source": [
    "**Data**"
   ]
  },
  {
   "cell_type": "code",
   "execution_count": 7,
   "id": "180a1b98-4bf4-4d04-87f5-321549919a64",
   "metadata": {},
   "outputs": [],
   "source": [
    "DOCUMENT1 = \"Operating the Climate Control System  Your Googlecar has a climate control system that allows you to adjust the temperature and airflow in the car. To operate the climate control system, use the buttons and knobs located on the center console.  Temperature: The temperature knob controls the temperature inside the car. Turn the knob clockwise to increase the temperature or counterclockwise to decrease the temperature. Airflow: The airflow knob controls the amount of airflow inside the car. Turn the knob clockwise to increase the airflow or counterclockwise to decrease the airflow. Fan speed: The fan speed knob controls the speed of the fan. Turn the knob clockwise to increase the fan speed or counterclockwise to decrease the fan speed. Mode: The mode button allows you to select the desired mode. The available modes are: Auto: The car will automatically adjust the temperature and airflow to maintain a comfortable level. Cool: The car will blow cool air into the car. Heat: The car will blow warm air into the car. Defrost: The car will blow warm air onto the windshield to defrost it.\"\n",
    "DOCUMENT2 = 'Your Googlecar has a large touchscreen display that provides access to a variety of features, including navigation, entertainment, and climate control. To use the touchscreen display, simply touch the desired icon.  For example, you can touch the \"Navigation\" icon to get directions to your destination or touch the \"Music\" icon to play your favorite songs.'\n",
    "DOCUMENT3 = \"Shifting Gears Your Googlecar has an automatic transmission. To shift gears, simply move the shift lever to the desired position.  Park: This position is used when you are parked. The wheels are locked and the car cannot move. Reverse: This position is used to back up. Neutral: This position is used when you are stopped at a light or in traffic. The car is not in gear and will not move unless you press the gas pedal. Drive: This position is used to drive forward. Low: This position is used for driving in snow or other slippery conditions.\"\n",
    "\n",
    "documents = [DOCUMENT1, DOCUMENT2, DOCUMENT3]\n",
    "#print(DOCUMENT1, \"\\n\", DOCUMENT2, \"\\n\", DOCUMENT3)\n"
   ]
  },
  {
   "cell_type": "markdown",
   "id": "6a1b6449-4d6b-4ada-964b-0a988f215ba4",
   "metadata": {},
   "source": [
    "## Creating the embedding database wih chromaDB\n",
    "\n",
    "- Create a custom function to generate embeddings with the Gemini API.\n",
    "- Implementing retrival system,\n",
    " - `task-type` for generating the document embeddings is `retrieval_document`.\n",
    " - `retrieval_query` for the query embeddings."
   ]
  },
  {
   "cell_type": "code",
   "execution_count": 8,
   "id": "535df44a-d89e-45f1-8412-ce13362a46a2",
   "metadata": {},
   "outputs": [],
   "source": [
    "from chromadb import Documents, EmbeddingFunction, Embeddings\n",
    "from google.api_core import retry"
   ]
  },
  {
   "cell_type": "code",
   "execution_count": 34,
   "id": "1f1afd09-9692-4679-be2f-a46ce99d9c1d",
   "metadata": {},
   "outputs": [],
   "source": [
    "class GeminiEmbeddingFunction(EmbeddingFunction):\n",
    "    # Specify whether to generate embeddings for documents, or queries\n",
    "    document_mode = True\n",
    "\n",
    "    def __call__(self, input:Documents) -> Embeddings:\n",
    "        if self.document_mode:\n",
    "            embedding_task = \"retrieval_document\"\n",
    "        else:\n",
    "            embedding_task = \"retrieval_query\"\n",
    "\n",
    "\n",
    "        retry_policy = {\"retry\": retry.Retry(predicate=retry.if_transient_error)}\n",
    "\n",
    "        response = genai.embed_content(\n",
    "            model = \"models/text-embedding-004\",\n",
    "            content=input,\n",
    "            task_type=embedding_task,\n",
    "            request_options=retry_policy,\n",
    "        )\n",
    "        return response[\"embedding\"]"
   ]
  },
  {
   "cell_type": "markdown",
   "id": "5df7ea91-df86-4962-b806-ce8d40e05163",
   "metadata": {},
   "source": [
    "Now create a chroma database client that uses the `GeminiEmbeddingFunciton` and populate the database with the documents defined above."
   ]
  },
  {
   "cell_type": "code",
   "execution_count": 35,
   "id": "3eed55ca-a2ed-4e4a-a0fa-fb3a66258e18",
   "metadata": {},
   "outputs": [
    {
     "name": "stderr",
     "output_type": "stream",
     "text": [
      "Add of existing embedding ID: 0\n",
      "Add of existing embedding ID: 1\n",
      "Add of existing embedding ID: 2\n",
      "Insert of existing embedding ID: 0\n",
      "Insert of existing embedding ID: 1\n",
      "Insert of existing embedding ID: 2\n"
     ]
    }
   ],
   "source": [
    "import chromadb\n",
    "\n",
    "DB_NAME = \"googlecardb\"\n",
    "embed_fn = GeminiEmbeddingFunction()\n",
    "embed_fn.document_mode = True\n",
    "\n",
    "chroma_client = chromadb.Client()\n",
    "db = chroma_client.get_or_create_collection(name=DB_NAME, embedding_function=embed_fn)\n",
    "\n",
    "db.add(documents=documents, ids=[str(i) for i in range(len(documents))])"
   ]
  },
  {
   "cell_type": "markdown",
   "id": "1236b929-278e-43a0-b79e-8ba00ddc4a68",
   "metadata": {},
   "source": [
    "Confirm that the data was inserted by looking at the database."
   ]
  },
  {
   "cell_type": "code",
   "execution_count": 36,
   "id": "c3f3ff3c-c934-4d5c-82a4-fd813ec5dbe6",
   "metadata": {},
   "outputs": [
    {
     "data": {
      "text/plain": [
       "3"
      ]
     },
     "execution_count": 36,
     "metadata": {},
     "output_type": "execute_result"
    }
   ],
   "source": [
    "db.count()\n",
    "# You can peek at the data too.\n",
    "# db.peek(1)"
   ]
  },
  {
   "cell_type": "markdown",
   "id": "dbf190eb-d6f0-41e4-b81c-9360753e6e37",
   "metadata": {},
   "source": [
    "## Retrival: Find relevant documents\n",
    "\n",
    "To search the chroma database, call the `query` method. \n",
    "\n",
    "<div class=\"alert alert-block alert-info\">\n",
    "<b>Note:</b>  Also swich to the `retrieval_query` mode of embedding generation\n",
    "</div>"
   ]
  },
  {
   "cell_type": "code",
   "execution_count": 44,
   "id": "871f19a8-03f1-4799-8946-440c8c394501",
   "metadata": {},
   "outputs": [
    {
     "data": {
      "text/markdown": [
       "Your Googlecar has a large touchscreen display that provides access to a variety of features, including navigation, entertainment, and climate control. To use the touchscreen display, simply touch the desired icon.  For example, you can touch the \"Navigation\" icon to get directions to your destination or touch the \"Music\" icon to play your favorite songs."
      ],
      "text/plain": [
       "<IPython.core.display.Markdown object>"
      ]
     },
     "execution_count": 44,
     "metadata": {},
     "output_type": "execute_result"
    }
   ],
   "source": [
    "# switch to query mode when generating embeddings.\n",
    "embed_fn.document_mode = False\n",
    "\n",
    "# Search the Chrome DB using the specified query\n",
    "query = \"How do you use the touchscreen to play music\"\n",
    "\n",
    "result = db.query(query_texts=[query], n_results=1)\n",
    "[[passage]] = result[\"documents\"]\n",
    "\n",
    "Markdown(passage)"
   ]
  },
  {
   "cell_type": "markdown",
   "id": "b6524494-844f-477e-8fdf-dddfedae2fc5",
   "metadata": {},
   "source": [
    "## Augmented generation: Answer the question\n",
    "\n",
    "- Found relevant passage from the set of documents(the retrieval step), Now assemble a generation prompt to have the Gemini API generate a final answer.\n",
    "\n",
    "<div class=\"alert alert-block alert-info\">\n",
    "<b>Note:</b>   Note that in this example only a single passage was retrieved. In practice, especially when the size of your underlying data is large, we will want to retrieve more than one result.\n",
    "</div>\n",
    "\n",
    "-  let the Gemini model determine what passages are relevant in answering the question.\n",
    "-  For this reason it's OK if some retrieved passages are not directly related to the question - this generation step should ignore them."
   ]
  },
  {
   "cell_type": "code",
   "execution_count": 45,
   "id": "75bb13d5-7b4e-46a2-ba45-995c3cbeca73",
   "metadata": {},
   "outputs": [
    {
     "name": "stdout",
     "output_type": "stream",
     "text": [
      "You are a helpful and informative bot that answers questions using text from the reference passage included below. \n",
      "Be sure to respond in a complete sentence, being comprehensive, including all relevant background information. \n",
      "However, you are talking to a non-technical audience, so be sure to break down complicated concepts and \n",
      "strike a friendly and converstional tone. If the passage is irrelevant to the answer, you may ignore it.\n",
      "\n",
      "QUESTION: How do you use the touchscreen to play music\n",
      "PASSAGE: Your Googlecar has a large touchscreen display that provides access to a variety of features, including navigation, entertainment, and climate control. To use the touchscreen display, simply touch the desired icon.  For example, you can touch the \"Navigation\" icon to get directions to your destination or touch the \"Music\" icon to play your favorite songs.\n",
      "\n"
     ]
    }
   ],
   "source": [
    "passage_oneline = passage.replace(\"\\n\", \" \")\n",
    "query_oneline = query.replace(\"\\n\", \" \")\n",
    "\n",
    "# This prompt is where you can specify any guidance on tone, or what topics the model should stick to, or avoid.\n",
    "prompt = f\"\"\"You are a helpful and informative bot that answers questions using text from the reference passage included below. \n",
    "Be sure to respond in a complete sentence, being comprehensive, including all relevant background information. \n",
    "However, you are talking to a non-technical audience, so be sure to break down complicated concepts and \n",
    "strike a friendly and converstional tone. If the passage is irrelevant to the answer, you may ignore it.\n",
    "\n",
    "QUESTION: {query_oneline}\n",
    "PASSAGE: {passage_oneline}\n",
    "\"\"\"\n",
    "\n",
    "print(prompt)"
   ]
  },
  {
   "cell_type": "markdown",
   "id": "68fb0fa8-c145-4eaa-ba80-8c1305a8876b",
   "metadata": {},
   "source": [
    "Now use the `generate_content` method to generate and answer to the question."
   ]
  },
  {
   "cell_type": "code",
   "execution_count": 46,
   "id": "af1c135d-234b-4d03-9155-4738b0b1baaf",
   "metadata": {},
   "outputs": [
    {
     "data": {
      "text/markdown": [
       "You can play music on your Googlecar by simply touching the \"Music\" icon on the large touchscreen display. \n"
      ],
      "text/plain": [
       "<IPython.core.display.Markdown object>"
      ]
     },
     "execution_count": 46,
     "metadata": {},
     "output_type": "execute_result"
    }
   ],
   "source": [
    "model = genai.GenerativeModel(\"gemini-1.5-flash-latest\")\n",
    "answer = model.generate_content(prompt)\n",
    "Markdown(answer.text)"
   ]
  },
  {
   "cell_type": "code",
   "execution_count": null,
   "id": "4a5c803d-996c-4033-a75d-0b0831732897",
   "metadata": {},
   "outputs": [],
   "source": []
  }
 ],
 "metadata": {
  "kernelspec": {
   "display_name": "Python 3 (ipykernel)",
   "language": "python",
   "name": "python3"
  },
  "language_info": {
   "codemirror_mode": {
    "name": "ipython",
    "version": 3
   },
   "file_extension": ".py",
   "mimetype": "text/x-python",
   "name": "python",
   "nbconvert_exporter": "python",
   "pygments_lexer": "ipython3",
   "version": "3.11.2"
  }
 },
 "nbformat": 4,
 "nbformat_minor": 5
}
