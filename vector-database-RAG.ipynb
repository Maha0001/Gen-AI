{
 "cells": [
  {
   "cell_type": "markdown",
   "id": "370fcd69-bd9a-45c8-adfb-dcbd328f6bf3",
   "metadata": {},
   "source": [
    "# Document Q&A with RAG\n",
    "\n",
    "Two Big limitations of LLMs:\n",
    "\n",
    "1. that they only \"know\" the information that they were trained on, and\n",
    "2. that they have limited input context windows.\n",
    "\n",
    "A way to address both of these limitations is to use a technique called Retrival Augmented Generation, or RAG. RAG system has three stages:\n",
    "\n",
    "1. Indexing\n",
    "2. Retrival\n",
    "3. Generaion\n",
    "\n",
    "**Indexing** happens ahead of time, and allows you to quickly look up relevant information at query-time. When a query comes in, you **retrieve** relevant documents, combine them with your instructions and the user's query, and have the LLM **generate** a tailored answer in natural language using the supplied information.\n",
    "\n",
    "This allows you to provide information that the model hasn't seen before, such as product-specific knowledge or live weather updates.\n",
    "\n",
    "<div class=\"alert alert-block alert-info\">\n",
    "<b>Info:</b> use the Gemini API to create a vector database, retrieve answers to questions from the database and generate a final answer. You will use Chroma, an open-source vector database. With Chroma, you can store embeddings alongside metadata, embed documents and queries, and search your documents.\n",
    "</div>\n",
    "\n"
   ]
  },
  {
   "cell_type": "code",
   "execution_count": 1,
   "id": "5bbd84ab-ce74-4479-9b37-44f6bc312334",
   "metadata": {},
   "outputs": [],
   "source": [
    "\n",
    "import google.generativeai as genai\n",
    "import os\n",
    "\n",
    "genai.configure(api_key=os.environ[\"GOOGLE_API_KEY\"])\n",
    "\n"
   ]
  },
  {
   "cell_type": "markdown",
   "id": "9f04e152-c0d3-4215-9d17-b6260ee262c2",
   "metadata": {},
   "source": [
    "**EmbedContent API method to calculate embeddings**"
   ]
  },
  {
   "cell_type": "code",
   "execution_count": 2,
   "id": "e132759e-81e5-4575-a162-901c9b9bec19",
   "metadata": {},
   "outputs": [
    {
     "name": "stdout",
     "output_type": "stream",
     "text": [
      "models/embedding-001\n",
      "models/text-embedding-004\n"
     ]
    }
   ],
   "source": [
    "for m in genai.list_models():\n",
    "    if \"embedContent\" in m.supported_generation_methods:\n",
    "        print(m.name)\n"
   ]
  },
  {
   "cell_type": "markdown",
   "id": "a1b340a5-f453-42b1-a3d0-2b824209ac3d",
   "metadata": {},
   "source": [
    "**Data**"
   ]
  },
  {
   "cell_type": "code",
   "execution_count": 7,
   "id": "180a1b98-4bf4-4d04-87f5-321549919a64",
   "metadata": {},
   "outputs": [],
   "source": [
    "DOCUMENT1 = \"Operating the Climate Control System  Your Googlecar has a climate control system that allows you to adjust the temperature and airflow in the car. To operate the climate control system, use the buttons and knobs located on the center console.  Temperature: The temperature knob controls the temperature inside the car. Turn the knob clockwise to increase the temperature or counterclockwise to decrease the temperature. Airflow: The airflow knob controls the amount of airflow inside the car. Turn the knob clockwise to increase the airflow or counterclockwise to decrease the airflow. Fan speed: The fan speed knob controls the speed of the fan. Turn the knob clockwise to increase the fan speed or counterclockwise to decrease the fan speed. Mode: The mode button allows you to select the desired mode. The available modes are: Auto: The car will automatically adjust the temperature and airflow to maintain a comfortable level. Cool: The car will blow cool air into the car. Heat: The car will blow warm air into the car. Defrost: The car will blow warm air onto the windshield to defrost it.\"\n",
    "DOCUMENT2 = 'Your Googlecar has a large touchscreen display that provides access to a variety of features, including navigation, entertainment, and climate control. To use the touchscreen display, simply touch the desired icon.  For example, you can touch the \"Navigation\" icon to get directions to your destination or touch the \"Music\" icon to play your favorite songs.'\n",
    "DOCUMENT3 = \"Shifting Gears Your Googlecar has an automatic transmission. To shift gears, simply move the shift lever to the desired position.  Park: This position is used when you are parked. The wheels are locked and the car cannot move. Reverse: This position is used to back up. Neutral: This position is used when you are stopped at a light or in traffic. The car is not in gear and will not move unless you press the gas pedal. Drive: This position is used to drive forward. Low: This position is used for driving in snow or other slippery conditions.\"\n",
    "\n",
    "documents = [DOCUMENT1, DOCUMENT2, DOCUMENT3]\n",
    "#print(DOCUMENT1, \"\\n\", DOCUMENT2, \"\\n\", DOCUMENT3)\n"
   ]
  },
  {
   "cell_type": "markdown",
   "id": "6a1b6449-4d6b-4ada-964b-0a988f215ba4",
   "metadata": {},
   "source": [
    "## Creating the embedding database wih chromaDB\n",
    "\n",
    "- Create a custom function to generate embeddings with the Gemini API.\n",
    "- Implementing retrival system,\n",
    " - `task-type` for generating the document embeddings is `retrieval_document`.\n",
    " - `retrieval_query` for the query embeddings."
   ]
  },
  {
   "cell_type": "code",
   "execution_count": 8,
   "id": "535df44a-d89e-45f1-8412-ce13362a46a2",
   "metadata": {},
   "outputs": [],
   "source": [
    "from chromadb import Documents, EmbeddingFunction, Embeddings\n",
    "from google.api_core import retry"
   ]
  },
  {
   "cell_type": "code",
   "execution_count": 16,
   "id": "1f1afd09-9692-4679-be2f-a46ce99d9c1d",
   "metadata": {},
   "outputs": [],
   "source": [
    "class GeminiEmbeddingFunction(EmbeddingFunction):\n",
    "    # Specify whether to generate embeddings for documents, or queries\n",
    "    document_mode = True\n",
    "\n",
    "    def __call__(self, input:Documents) -> Embeddings:\n",
    "        if self.document_mode:\n",
    "            embedding_task = \"retrieval_document\"\n",
    "        else:\n",
    "            embedding_taks = \"retrieval_query\"\n",
    "\n",
    "\n",
    "        retry_policy = {\"retry\": retry.Retry(predicate=retry.if_transient_error)}\n",
    "\n",
    "        response = genai.embed_content(\n",
    "            model = \"models/text-embedding-004\",\n",
    "            content=input,\n",
    "            task_type=embedding_task,\n",
    "            request_options=retry_policy,\n",
    "        )\n",
    "        return response['embedding']"
   ]
  },
  {
   "cell_type": "markdown",
   "id": "5df7ea91-df86-4962-b806-ce8d40e05163",
   "metadata": {},
   "source": [
    "Now create a chroma database client that uses the `GeminiEmbeddingFunciton` and populate the database with the documents defined above."
   ]
  },
  {
   "cell_type": "code",
   "execution_count": 17,
   "id": "3eed55ca-a2ed-4e4a-a0fa-fb3a66258e18",
   "metadata": {},
   "outputs": [],
   "source": [
    "import chromadb\n",
    "\n",
    "DB_NAME = \"googlecardb\"\n",
    "embed_fn = GeminiEmbeddingFunction()\n",
    "embed_fn.document_mode = True\n",
    "\n",
    "chroma_client = chromadb.Client()\n",
    "db = chroma_client.get_or_create_collection(name=DB_NAME, embedding_function=embed_fn)\n",
    "\n",
    "db.add(documents=documents, ids=[str(i) for i in range(len(documents))])"
   ]
  },
  {
   "cell_type": "markdown",
   "id": "1236b929-278e-43a0-b79e-8ba00ddc4a68",
   "metadata": {},
   "source": [
    "Confirm that the data was inserted by looking at the database."
   ]
  },
  {
   "cell_type": "code",
   "execution_count": 19,
   "id": "c3f3ff3c-c934-4d5c-82a4-fd813ec5dbe6",
   "metadata": {},
   "outputs": [
    {
     "data": {
      "text/plain": [
       "3"
      ]
     },
     "execution_count": 19,
     "metadata": {},
     "output_type": "execute_result"
    }
   ],
   "source": [
    "db.count()\n",
    "# You can peek at the data too.\n",
    "# db.peek(1)"
   ]
  },
  {
   "cell_type": "code",
   "execution_count": null,
   "id": "e7fcfdf9-41a4-4d24-8265-4600400647b6",
   "metadata": {},
   "outputs": [],
   "source": []
  }
 ],
 "metadata": {
  "kernelspec": {
   "display_name": "Python 3 (ipykernel)",
   "language": "python",
   "name": "python3"
  },
  "language_info": {
   "codemirror_mode": {
    "name": "ipython",
    "version": 3
   },
   "file_extension": ".py",
   "mimetype": "text/x-python",
   "name": "python",
   "nbconvert_exporter": "python",
   "pygments_lexer": "ipython3",
   "version": "3.11.2"
  }
 },
 "nbformat": 4,
 "nbformat_minor": 5
}
